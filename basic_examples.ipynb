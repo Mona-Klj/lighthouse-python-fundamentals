{
 "cells": [
  {
   "cell_type": "markdown",
   "metadata": {},
   "source": [
    "# In this notebook, we will look at the basics of Python syntax, data types, and control flow\n",
    "We're mainly going to focus on the core operations, the ones that you will use most often.\n",
    "There is much, much more that you can do with all of the different data types in Python.\n",
    "\n",
    "There's a lot here so it may seem pretty dry, but it will be useful for you going forward\n",
    "as a quick **Python cheatsheet**."
   ]
  },
  {
   "cell_type": "markdown",
   "metadata": {},
   "source": [
    "## Data type: int and float"
   ]
  },
  {
   "cell_type": "code",
   "execution_count": 112,
   "metadata": {},
   "outputs": [],
   "source": [
    "# Arithmetic\n",
    "x = 1 + 4        # 5\n",
    "x = -2.5 * 8     # -20.0\n",
    "x = -16 / 3      # -5.33 (Note: Division always returns a float, even if the result is a whole number)\n",
    "x = 16 // 3      # 5 (Division rounded down to the nearest whole number. Returns an int if both operands are ints)\n",
    "x = 8 % 3        # 2 (Returns the remainder of division. Returns an int if both operands are ints)\n",
    "x = 2 ** 3       # 8 (Exponentiation [i.e. 2 * 2 * 2]. Returns an int if both operands are ints)\n",
    "x += 5           # 13 (Equivalent to saying x = x + 5 [i.e. x = 8 + 5])"
   ]
  },
  {
   "cell_type": "markdown",
   "metadata": {},
   "source": [
    "All of the above operations can be applied to ints, floats, or mixes of the two. As a general rule,\n",
    "the result will only be an `int` if both operands are also `int`s **and** the result is a whole number.\n",
    "The exception is division, which will always return a `float` no matter what. If you need to convert\n",
    "a `float` to an `int`, you can \"cast\" it as shown below (note that if you're ever unsure of the type\n",
    "if a variable, you can always get it using the built-in `type` function)."
   ]
  },
  {
   "cell_type": "code",
   "execution_count": 32,
   "metadata": {},
   "outputs": [
    {
     "name": "stdout",
     "output_type": "stream",
     "text": [
      "2.5 <class 'float'>\n",
      "2 <class 'int'>\n"
     ]
    }
   ],
   "source": [
    "x = 2.5\n",
    "print(x, type(x))\n",
    "y = int(x)\n",
    "print(y, type(y))"
   ]
  },
  {
   "cell_type": "markdown",
   "metadata": {},
   "source": [
    "## Data type: string (str)"
   ]
  },
  {
   "cell_type": "code",
   "execution_count": 61,
   "metadata": {},
   "outputs": [
    {
     "name": "stdout",
     "output_type": "stream",
     "text": [
      "We can join this string with this one\n",
      "We can join-a list of strings-with stuff in between-(in this case, dashes)\n",
      "['We', 'can', 'split', 'this', 'string', 'by', 'its', 'spaces']\n",
      "2.5 <class 'str'>\n",
      "PI is 3.14159, and rounded to the nearest 100th it is 3.14\n",
      "Let's escape the \"'\" character\n"
     ]
    }
   ],
   "source": [
    "# We can join two strings using the + operator\n",
    "x = 'We can join this string' + ' with this one'\n",
    "print(x)\n",
    "\n",
    "# We can join a list of strings and fill whatever we want in between\n",
    "x = '-'.join(['We can join', 'a list of strings', 'with stuff in between', '(in this case, dashes)'])\n",
    "print(x)\n",
    "\n",
    "# Similarly, we can split a string into a list by whatever we want\n",
    "x = 'We can split this string by its spaces'.split(' ')\n",
    "print(x)\n",
    "\n",
    "# We can \"cast\" (i.e. convert) numbers to strings\n",
    "x = str(2.5)\n",
    "print(x, type(x))\n",
    "\n",
    "# We can format strings with certain placeholder markers (useful for neat printing)\n",
    "pi = 3.14159\n",
    "x = 'PI is {}, and rounded to the nearest 100th it is {:.2f}'.format(pi, pi)\n",
    "print(x)\n",
    "\n",
    "# If we want to use certain special characters in our string (for instance, '), we can \"escape\" them by prepending a \\\n",
    "x = 'Let\\'s escape the \"\\'\" character'\n",
    "print(x)"
   ]
  },
  {
   "cell_type": "markdown",
   "metadata": {},
   "source": [
    "## Data type: boolean (bool) [i.e. True/False]"
   ]
  },
  {
   "cell_type": "code",
   "execution_count": 89,
   "metadata": {},
   "outputs": [],
   "source": [
    "# Literals\n",
    "x = True\n",
    "y = False\n",
    "\n",
    "# \"and\" returns True when both sides are True\n",
    "z = x and y        # False\n",
    "z = x and x        # True\n",
    "z = y and y        # False\n",
    "\n",
    "# \"or\" returns True when at least one side is True\n",
    "z = x or y        # True\n",
    "z = x or x        # True\n",
    "z = y or y        # False\n",
    "\n",
    "# \"not\" returns the opposite of what comes after it\n",
    "z = not x         # False\n",
    "z = not y         # True\n",
    "\n",
    "# Order of operations: not -> and -> or\n",
    "z = x or y and not x    # What do you think this outputs?\n",
    "\n",
    "# Comparison operators\n",
    "z = 5 > 2         # True (greater than). There is also <\n",
    "z = 5 >= 5        # True (greater than or equal to). There is also <=\n",
    "z = 5 == 2        # False (equal to). Remember than just a single \"=\" is used for assignment, so Python uses a double \"=\" for equality\n",
    "z = 5 != 2        # True (not equal to)"
   ]
  },
  {
   "cell_type": "markdown",
   "metadata": {},
   "source": [
    "## Data type: list"
   ]
  },
  {
   "cell_type": "code",
   "execution_count": 72,
   "metadata": {},
   "outputs": [],
   "source": [
    "# Definition\n",
    "x = [5, 1, 0, 12, 6]\n",
    "\n",
    "# Getting the size of the list\n",
    "y = len(x)      # 5 (x has 5 entires)\n",
    "\n",
    "# Indexing one entry\n",
    "y = x[0]        # 5 (1st entry, because Python starts counting from 0)\n",
    "y = x[2]        # 2 (3rd entry)\n",
    "\n",
    "# Indexing a sequence of entries\n",
    "y = x[1:4]      # [1, 0, 12] (Read as start:[end - 1], so 2nd - 4th in this case)\n",
    "y = x[:4]       # [5, 1, 0, 12] (Read as 0:[end - 1], so 1st - 4th in this case)\n",
    "y = x[1:]       # [1, 0, 12, 6] (Read as start:[len(x) - 1], so 2nd - 5th in this case)\n",
    "y = x[1:len(x)] # [1, 0, 12, 6] (Same as above)\n",
    "\n",
    "# Adding to lists\n",
    "x.append(1)     # x is now [5, 1, 0, 12, 6, 1]\n",
    "y = [8, 2] + x  # [8, 2, 5, 1, 0, 12, 6, 1]\n",
    "\n",
    "# Modifying entires\n",
    "x[3] = 20       # x is now [5, 1, 0, 20, 6, 1]\n",
    "\n",
    "# Checking membership\n",
    "y = 12 in x    # True (x contains the value 12)"
   ]
  },
  {
   "cell_type": "markdown",
   "metadata": {},
   "source": [
    "## Data type: tuple"
   ]
  },
  {
   "cell_type": "code",
   "execution_count": 101,
   "metadata": {},
   "outputs": [],
   "source": [
    "# Definition\n",
    "x = ('eric', 'python', 'canada')\n",
    "\n",
    "# Getting the size of the tuple\n",
    "y = len(x)      # 2\n",
    "\n",
    "# Indexing one entry\n",
    "y = x[0]        # 'eric'\n",
    "y = x[1]        # 'python'\n",
    "\n",
    "# Indexing a sequence of entries\n",
    "y = x[1:3]      # ('python', 'canada')\n",
    "\n",
    "# \"Unpacking\" tuples\n",
    "name, language, country = x    # name = 'eric', language = 'python', and country = 'canada'\n",
    "\n",
    "# Combining tuples\n",
    "y = (8, 2) + x  # (8, 2, 'eric', 'python', 'canada')\n",
    "\n",
    "# Checking membership\n",
    "y = 12 in x    # False (x does not contain the value 12)\n",
    "\n",
    "# You cannot modify tuple elements! They are \"immutable\" (this is the essential difference with lists)\n",
    "# Executing the code below would cause errors\n",
    "#x.append(1)    # AttributeError: 'tuple' object has no attribute 'append'\n",
    "#x[3] = 20      # TypeError: 'tuple' object does not support item assignment"
   ]
  },
  {
   "cell_type": "markdown",
   "metadata": {},
   "source": [
    "It might seem weird that tuples are essentially just lists that can't be modified. What are they good for?\n",
    "Essentially, the difference is that they're used for different purposes:\n",
    "- When you use a tuple, you're telling the people who read your code \"this variable will not change\".\n",
    "- In practice, people use lists for \"homogenous\" data (i.e. a collection of the same sort of stuff), whereas the entires in tuples are often \"heterogeneous\" and might represent very different things. In the example above, the first entry represents my name, the second entry represents the coding language I'm using, and the third entry represents the country I live in. It would be strange to define these different concepts in the same list. Tuples are often even composed of different data types.\n",
    "- Tuples can be used as \"keys\" in dictionary data structures (which we'll see below), whereas lists cannot.\n",
    "\n",
    "These differences communicate the variable's function, and helps make your code more understandable."
   ]
  },
  {
   "cell_type": "markdown",
   "metadata": {},
   "source": [
    "## Data type: dictionary (dict)\n",
    "These are one of the more interesting data types. They're kind of like lists, but you index them using \"keys\" rather\n",
    "than their position, where these \"keys\" can take on numerous data types (e.g. `str`, `tuple`, `int`, ...), so long\n",
    "as the data type is what we call \"hashable\" (Google this term if you're interested, it's pretty clever!)."
   ]
  },
  {
   "cell_type": "code",
   "execution_count": 103,
   "metadata": {},
   "outputs": [],
   "source": [
    "# Definition\n",
    "x = {'bonnie': 82, 'eric': 100, 'lynxi': 12}    # These are 3 key:value pairs. For instance, maybe test marks for different people\n",
    "\n",
    "# Getting the size of the dictionary\n",
    "y = len(x)            # 3\n",
    "\n",
    "# Indexing\n",
    "y = x['eric']         # 100 (The value at the 'eric'th entry)\n",
    "\n",
    "# Adding new entries to dictionaries\n",
    "x['gad'] = 76         # {'bonnie': 82, 'gad': 76, 'eric': 100 'lynxi': 12}\n",
    "\n",
    "# Modifying existing entires in dictionaries\n",
    "x['eric'] = 60        # {'bonnie': 82, 'gad': 76, 'eric': 60 'lynxi': 12}\n",
    "\n",
    "# Checking membership (of keys!)\n",
    "y = 'eric' in x       # True (x contains the key 'eric')\n",
    "y = 12 in x           # False (Although the value 12 is in x, it is not a key)\n",
    "\n",
    "# Checking membership of values\n",
    "y = 12 in x.values()  # True (x contains the value 12)"
   ]
  },
  {
   "cell_type": "markdown",
   "metadata": {},
   "source": [
    "**Note**: Dictionaries are not \"ordered\" data types, and it is dangerous to write your code in a way that assumes they are.\n",
    "It makes no sense to say that the 'bonnie'th entry comes before the 'eric'th entry, even though this is how we have written\n",
    "it above."
   ]
  },
  {
   "cell_type": "markdown",
   "metadata": {},
   "source": [
    "## Control flow: \"if\" statements\n",
    "\n",
    "\"if\" statements are one of the most essential concepts in any programming language because they allow the code to make decisions. Without \"if\" statements, programs would pretty much be like large, complex calculators. The format of an if statement is as follows:\n",
    "```python\n",
    "if [boolean expression]:\n",
    "    [what to do when the boolean expression evaluates to True]\n",
    "else:   # optional\n",
    "    [what to do when the boolean expression evaluates to False]\n",
    "```"
   ]
  },
  {
   "cell_type": "code",
   "execution_count": 98,
   "metadata": {},
   "outputs": [
    {
     "name": "stdout",
     "output_type": "stream",
     "text": [
      "Lynxi failed :(\n"
     ]
    }
   ],
   "source": [
    "# Using the data structure above, let's output something different depending on whether or not someone passed the course\n",
    "course_marks = {'bonnie': 82, 'eric': 100, 'lynxi': 12}\n",
    "pass_mark = 60\n",
    "\n",
    "if course_marks['lynxi'] > pass_mark:\n",
    "    print('Lynxi passed the course!')\n",
    "    # Note that we can have as many lines inside here as we want\n",
    "else:\n",
    "    print('Lynxi failed :(')\n",
    "\n",
    "# The else statement is optional. Often, you want to do nothing if the condition is not met\n",
    "if course_marks['lynxi'] > pass_mark:\n",
    "    print('Lynxi passed the course!')\n",
    "    # Note that we can have as many lines inside here as we want"
   ]
  },
  {
   "cell_type": "markdown",
   "metadata": {},
   "source": [
    "## Control flow: \"for\" loops\n",
    "If all we were able to do with lists, tuples, and dictionaries was store data in them, they would essentially\n",
    "just be useful for organizing our code. Luckily, we can iterate through them using \"for\" loops. The \"for\" loop\n",
    "has the following format:\n",
    "```python\n",
    "for [variable] in [iterable data structure (like a list):\n",
    "    [what you want to do using the current value each iteration]\n",
    "```"
   ]
  },
  {
   "cell_type": "code",
   "execution_count": 113,
   "metadata": {},
   "outputs": [
    {
     "name": "stdout",
     "output_type": "stream",
     "text": [
      "64.66666666666667\n",
      "[72, 90, 2]\n",
      "bonnie has mark: 82\n",
      "eric has mark: 100\n",
      "lynxi has mark: 12\n"
     ]
    }
   ],
   "source": [
    "# Let's compute an average course mark using different data structures\n",
    "\n",
    "# Iterating through lists (or tuples)\n",
    "course_marks = [82, 100, 12]\n",
    "marks_sum = 0\n",
    "for mark in course_marks:    # (\"mark\" takes on the value 82 the first time the loop executes, then 100, then 12)\n",
    "    marks_sum += mark\n",
    "    # At the end of what's in the \"body\" of the \"for\" loop, it starts again. This happens until we reach the end of the list.\n",
    "mean = marks_sum / len(course_marks)\n",
    "print(mean)\n",
    "\n",
    "# Iterating through lists (or tuples) by their index (this is sometimes useful, for instance if you want to change the values in the list)\n",
    "course_marks = [82, 100, 12]\n",
    "for i in range(len(course_marks)):    # range(len(course_marks)) creates a list of ints going from 0 to [len(coure_marks) - 1]\n",
    "    course_marks[i] -= 10\n",
    "print(course_marks)\n",
    "\n",
    "# Iterating through dictionary keys\n",
    "course_marks = {'bonnie': 82, 'eric': 100, 'lynxi': 12}\n",
    "marks_sum = 0\n",
    "for name in course_marks:\n",
    "    mark = course_marks[name]\n",
    "    marks_sum += mark\n",
    "mean = marks_sum / len(course_marks)\n",
    "\n",
    "# Iterating though dictionary values\n",
    "course_marks = {'bonnie': 82, 'eric': 100, 'lynxi': 12}\n",
    "marks_sum = 0\n",
    "for mark in course_marks.values():\n",
    "    marks_sum += mark\n",
    "mean = marks_sum / len(course_marks)\n",
    "\n",
    "# Iterating though dictionary keys and values simultaneously\n",
    "course_marks = {'bonnie': 82, 'eric': 100, 'lynxi': 12}\n",
    "marks_sum = 0\n",
    "for name, mark in course_marks.items():\n",
    "    print('{} has mark: {}'.format(name, mark))\n",
    "    marks_sum += mark\n",
    "mean = marks_sum / len(course_marks)"
   ]
  },
  {
   "cell_type": "markdown",
   "metadata": {},
   "source": [
    "## Control flow: \"while\" loops\n",
    "Sometimes, we don't want our loop to iteratate through the values of some data structure, but\n",
    "instead want it to execute until some condition is no longer met. For this, we use a \"while\" loop, which has the\n",
    "following format:\n",
    "```python\n",
    "while [boolean expression]:\n",
    "    [what you want to do each iteration]\n",
    "```"
   ]
  },
  {
   "cell_type": "code",
   "execution_count": 114,
   "metadata": {},
   "outputs": [
    {
     "name": "stdout",
     "output_type": "stream",
     "text": [
      "{'bonnie': 100, 'eric': 100, 'lynxi': 40}\n"
     ]
    }
   ],
   "source": [
    "# Let's keep bumping up everyone's grade until we have an average of 80 or above\n",
    "course_marks = {'bonnie': 82, 'eric': 100, 'lynxi': 12}\n",
    "\n",
    "marks_sum = 0\n",
    "for mark in course_marks.values():\n",
    "    marks_sum += mark\n",
    "mean = marks_sum / len(course_marks)\n",
    "\n",
    "while mean < 80:    # Stop the loop once the variable \"mean\" is 80 or above\n",
    "    # Mean is below 80, so increase everyone's mark by 1 (but don't go past 100!)\n",
    "    marks_sum = 0\n",
    "    for name, mark in course_marks.items():    # FYI we can nest loops and \"if\" statements as much as we like\n",
    "        if mark < 100:\n",
    "            mark += 1\n",
    "            course_marks[name] = mark\n",
    "        marks_sum += mark\n",
    "    mean = marks_sum / len(course_marks)\n",
    "    \n",
    "print(course_marks)"
   ]
  },
  {
   "cell_type": "markdown",
   "metadata": {},
   "source": [
    "*Warning*: If you accidentally write a condition that will always evaluate to True (for instance, by forgetting to recompute `mean`\n",
    "at the end of the loop, the loop will keep running forever. This is called an **infinite loop** (I made this mistake when writing\n",
    "this tutorial!)."
   ]
  },
  {
   "cell_type": "markdown",
   "metadata": {},
   "source": [
    "## Functions\n",
    "Parts of code are bound to be reused. For instance, above, we keep rewriting the same exact code for computing the mean\n",
    "of a classes marks. Not only does this make our code longer, but it also makes it less readable. Every time we see\n",
    "the code for computing the mean, we have to read it a bit to know what it does.\n",
    "\n",
    "A **function** let's us define a chunk of code that takes some **inputs** and returns some **outputs**. Think of it as\n",
    "a mini-program that we can reuse as many times as we want in the rest of our code. This is one of the most powerful\n",
    "tools at your disposal as a programmer, and you should try to make a function out of any chunk of code that shares a\n",
    "concrete purpose. As a general rule, if you can give a simple name to what the chunk of code does, it should be a function.\n",
    "This is called **modular programming**, and it will make your code both easier to write and understand.\n",
    "\n",
    "The format of a function definition is as follows:\n",
    "```python\n",
    "def function_name(argument_1, argument_2, etc.):\n",
    "    [do something using the arguments]\n",
    "    return val_1, val_2, etc.\n",
    "```\n",
    "Note that a function need not take in any arguments at all, and need not return anything.\n",
    "\n",
    "Elsewhere in our program, we can \"call\" our function as follows, substituting any values we want\n",
    "for the arguments:\n",
    "```python\n",
    "output = function_name(value_1, value_2, etc.)\n",
    "```\n",
    "\n",
    "To illustrate the concept, let's rewrite the code above using functions."
   ]
  },
  {
   "cell_type": "code",
   "execution_count": 122,
   "metadata": {},
   "outputs": [
    {
     "name": "stdout",
     "output_type": "stream",
     "text": [
      "{'bonnie': 100, 'eric': 100, 'lynxi': 40}\n"
     ]
    }
   ],
   "source": [
    "# Takes as input a list of numbers, and returns their mean\n",
    "def mean(numbers):\n",
    "    numbers_sum = 0\n",
    "    for num in numbers:\n",
    "        numbers_sum += num\n",
    "    numbers_mean = numbers_sum / len(numbers)\n",
    "    return numbers_mean\n",
    "\n",
    "# Takes in a dictionary of string:number pairs and increments each number by \"increment\".\n",
    "# By default, we are setting \"increment\" to 1 (i.e. if this function is \"called\" without specifying\n",
    "# a value for \"increment\" it will just take on the value 1)\n",
    "def increment_marks(course_marks, increment=1):\n",
    "    for name, mark in course_marks.items():\n",
    "        if mark < 100:\n",
    "            course_marks[name] += 1\n",
    "    # This function doesn't return anything\n",
    "    \n",
    "# Let's use our functions to bump up everyone's grade until we have an average of 80 or above.\n",
    "# Notice how much more readable it is than what we had in the previous code, because we've\n",
    "# split up the individual pieces of logic into their own functions\n",
    "course_marks = {'bonnie': 82, 'eric': 100, 'lynxi': 12}\n",
    "course_mean = mean(course_marks.values())\n",
    "while course_mean < 80:\n",
    "    increment_marks(course_marks)\n",
    "    course_mean = mean(course_marks.values())\n",
    "print(course_marks)\n",
    "\n",
    "# Let's pass in a value for the \"increment\" argument in the \"increment_marks\" function instead of using the default\n",
    "course_marks = {'bonnie': 82, 'eric': 100, 'lynxi': 12}\n",
    "course_mean = mean(course_marks.values())\n",
    "while course_mean < 80:\n",
    "    increment_marks(course_marks, 5)    # Increment the marks by 5 at a time so that the loop runs faster (fewer iterations)\n",
    "    course_mean = mean(course_marks.values())\n",
    "\n",
    "# We can also call functions with their argument names. This makes it easier for people reading\n",
    "# the code to understand what the function does without having to go look at the argument names\n",
    "# in the function's definition. This is most useful when a function has many arguments\n",
    "course_marks = {'bonnie': 82, 'eric': 100, 'lynxi': 12}\n",
    "course_mean = mean(numbers=course_marks.values())\n",
    "while course_mean < 80:\n",
    "    increment_marks(course_marks, increment=5)    # We can specify the names of only some of the arguments if we want. Here, we only specify it for \"increment\"\n",
    "    course_mean = mean(numbers=course_marks.values())"
   ]
  },
  {
   "cell_type": "markdown",
   "metadata": {},
   "source": [
    "## Errors and exception handling\n",
    "When we write a line of code that the computer couldn't execute, the program\n",
    "stops running and we get an **error**. This error will tell us what line of\n",
    "code caused the problem, and ideally will also give us some useful hints\n",
    "about what went wrong. Let's look at an example."
   ]
  },
  {
   "cell_type": "code",
   "execution_count": 123,
   "metadata": {},
   "outputs": [
    {
     "ename": "KeyError",
     "evalue": "'donald'",
     "output_type": "error",
     "traceback": [
      "\u001b[0;31m---------------------------------------------------------------------------\u001b[0m",
      "\u001b[0;31mKeyError\u001b[0m                                  Traceback (most recent call last)",
      "\u001b[0;32m<ipython-input-123-c095ac33dd90>\u001b[0m in \u001b[0;36m<module>\u001b[0;34m\u001b[0m\n\u001b[1;32m      1\u001b[0m \u001b[0mcourse_marks\u001b[0m \u001b[0;34m=\u001b[0m \u001b[0;34m{\u001b[0m\u001b[0;34m'bonnie'\u001b[0m\u001b[0;34m:\u001b[0m \u001b[0;36m82\u001b[0m\u001b[0;34m,\u001b[0m \u001b[0;34m'eric'\u001b[0m\u001b[0;34m:\u001b[0m \u001b[0;36m100\u001b[0m\u001b[0;34m,\u001b[0m \u001b[0;34m'lynxi'\u001b[0m\u001b[0;34m:\u001b[0m \u001b[0;36m12\u001b[0m\u001b[0;34m}\u001b[0m\u001b[0;34m\u001b[0m\u001b[0;34m\u001b[0m\u001b[0m\n\u001b[0;32m----> 2\u001b[0;31m \u001b[0mdonalds_mark\u001b[0m \u001b[0;34m=\u001b[0m \u001b[0mcourse_marks\u001b[0m\u001b[0;34m[\u001b[0m\u001b[0;34m'donald'\u001b[0m\u001b[0;34m]\u001b[0m\u001b[0;34m\u001b[0m\u001b[0;34m\u001b[0m\u001b[0m\n\u001b[0m",
      "\u001b[0;31mKeyError\u001b[0m: 'donald'"
     ]
    }
   ],
   "source": [
    "course_marks = {'bonnie': 82, 'eric': 100, 'lynxi': 12}\n",
    "donalds_mark = course_marks['donald']"
   ]
  },
  {
   "cell_type": "markdown",
   "metadata": {},
   "source": [
    "We got a `KeyError`. This means that we were trying to access an entry for which there was no existing\n",
    "key in our dictionary (i.e. it doesn't contain an entry for 'donald'). In this case, the error didn't give\n",
    "us much detailed information, because `KeyError` is such a common occurrence and its cause is so obvious.\n",
    "\n",
    "If we expect certain errors occuring in our program and don't want them to break when encountered,\n",
    "we can \"catch\" them. The syntax for doing so looks like this:\n",
    "```python\n",
    "try:\n",
    "    [write the code that might cause an error]\n",
    "except error_type_1, error_type_2, etc. as error_variable:\n",
    "    [the code that you want to run when the error occurs]\n",
    "```\n",
    "If an error occurs within the `try` block, **and** the error is of a type that we're trying to\n",
    "catch (e.g. error_type_1), then the code within the `except` block executes and the program will\n",
    "continue to run normally. In addition, `error_variable` will be a data structure that contains\n",
    "information about the error that occured, in case we want to do something with it (e.g. log\n",
    "its occurence in a file). For instance, we could catch the above error using the following:"
   ]
  },
  {
   "cell_type": "code",
   "execution_count": 126,
   "metadata": {},
   "outputs": [
    {
     "name": "stdout",
     "output_type": "stream",
     "text": [
      "Uh oh, an error occured: 'donald' with type <class 'KeyError'>\n"
     ]
    }
   ],
   "source": [
    "course_marks = {'bonnie': 82, 'eric': 100, 'lynxi': 12}\n",
    "try:\n",
    "    donalds_mark = course_marks['donald']\n",
    "except KeyError as e:\n",
    "    print('Uh oh, an error occured: {} with type {}'.format(e, type(e)))"
   ]
  },
  {
   "cell_type": "markdown",
   "metadata": {},
   "source": [
    "In most other programming languages, code like what we have written above would be perfectly fine. In Python, however, catching exceptions\n",
    "is typically frowned upon. It is considered much better practice to use `if` statements instead to check whether or not an error could happen.\n",
    "For instance, we could rewrite the above as:"
   ]
  },
  {
   "cell_type": "code",
   "execution_count": 127,
   "metadata": {},
   "outputs": [
    {
     "name": "stdout",
     "output_type": "stream",
     "text": [
      "Uh oh, donald is not in the course\n"
     ]
    }
   ],
   "source": [
    "course_marks = {'bonnie': 82, 'eric': 100, 'lynxi': 12}\n",
    "if 'donald' in course_marks:\n",
    "    donalds_mark = course_marks['donald']\n",
    "else:\n",
    "    print('Uh oh, donald is not in the course')"
   ]
  },
  {
   "cell_type": "markdown",
   "metadata": {},
   "source": [
    "## Copying\n",
    "Unfortunately, variable assignment in Python is not always consistent. Sometimes, variable assignment creates\n",
    "a **copy** of the expression on the right-hand side, while other times the variable becomes an **alias**\n",
    "(a different name for the same thing) of what is on the right-hand side. Consider the examples below."
   ]
  },
  {
   "cell_type": "code",
   "execution_count": 128,
   "metadata": {},
   "outputs": [
    {
     "name": "stdout",
     "output_type": "stream",
     "text": [
      "x = 5, y = 7\n"
     ]
    }
   ],
   "source": [
    "x = 5\n",
    "y = x\n",
    "y = 7\n",
    "print('x = {}, y = {}'.format(x, y))"
   ]
  },
  {
   "cell_type": "markdown",
   "metadata": {},
   "source": [
    "When we wrote `y = x`, a **copy** of `x` was created. Therefore, when we modified `y` afterwards, `x` did not change.\n",
    "Therefore, we say that `int` types are **assigned by value**."
   ]
  },
  {
   "cell_type": "code",
   "execution_count": 129,
   "metadata": {},
   "outputs": [
    {
     "name": "stdout",
     "output_type": "stream",
     "text": [
      "x = [3, 12, 1], y = [3, 12, 1]\n"
     ]
    }
   ],
   "source": [
    "x = [3, 5, 1]\n",
    "y = x\n",
    "y[1] = 12\n",
    "print('x = {}, y = {}'.format(x, y))"
   ]
  },
  {
   "cell_type": "markdown",
   "metadata": {},
   "source": [
    "When we wrote `y = x`, an **alias** of `x` was created. `x` and `y` were essentially different variable names\n",
    "both referencing the same object. Therefore, we say that `list` types are **assigned by reference**."
   ]
  },
  {
   "cell_type": "markdown",
   "metadata": {},
   "source": [
    "Typically, more complex data types are assigned by reference, while simple data types are assigned by value. Luckily, if we want to assign complex\n",
    "data types by value, there is an easy solution using the built-in `copy` module."
   ]
  },
  {
   "cell_type": "code",
   "execution_count": 134,
   "metadata": {},
   "outputs": [
    {
     "name": "stdout",
     "output_type": "stream",
     "text": [
      "x = [3, 5, 1], y = [3, 12, 1]\n"
     ]
    }
   ],
   "source": [
    "from copy import copy # from the \"copy\" module (built-in python file), import the \"copy\" function for use in our program\n",
    "\n",
    "x = [3, 5, 1]\n",
    "y = copy(x)\n",
    "y[1] = 12\n",
    "print('x = {}, y = {}'.format(x, y))"
   ]
  },
  {
   "cell_type": "markdown",
   "metadata": {},
   "source": [
    "Unfortunately, the copy function does not get applied recursively. Consider the following."
   ]
  },
  {
   "cell_type": "code",
   "execution_count": 140,
   "metadata": {},
   "outputs": [
    {
     "name": "stdout",
     "output_type": "stream",
     "text": [
      "x = [[1, 2], [3, 4], [5, 6]], y = [[1, 2], [7, 8], [5, 6]]\n",
      "x = [[1, 2], [7, 4], [5, 6]], y = [[1, 2], [7, 4], [5, 6]]\n"
     ]
    }
   ],
   "source": [
    "from copy import copy\n",
    "\n",
    "# This works fine (x does not get modified)\n",
    "x = [[1, 2], [3, 4], [5, 6]]    # Lists within a list\n",
    "y = copy(x)\n",
    "y[1] = [7, 8]\n",
    "print('x = {}, y = {}'.format(x, y))\n",
    "\n",
    "# This does not work (x gets modified)\n",
    "x = [[1, 2], [3, 4], [5, 6]]    # Lists within a list\n",
    "y = copy(x)\n",
    "y[1][0] = 7\n",
    "print('x = {}, y = {}'.format(x, y))"
   ]
  },
  {
   "cell_type": "markdown",
   "metadata": {},
   "source": [
    "To get around this, we simply use the `deepcopy` function from the `copy` module."
   ]
  },
  {
   "cell_type": "code",
   "execution_count": 142,
   "metadata": {},
   "outputs": [
    {
     "name": "stdout",
     "output_type": "stream",
     "text": [
      "x = [[1, 2], [3, 4], [5, 6]], y = [[1, 2], [7, 4], [5, 6]]\n"
     ]
    }
   ],
   "source": [
    "from copy import deepcopy\n",
    "\n",
    "x = [[1, 2], [3, 4], [5, 6]]    # Lists within a list\n",
    "y = deepcopy(x)\n",
    "y[1][0] = 7\n",
    "print('x = {}, y = {}'.format(x, y))"
   ]
  },
  {
   "cell_type": "markdown",
   "metadata": {},
   "source": [
    "## Bonus data types: date and time\n",
    "Python contains built-in data types for handling date and time. This is great, because as any programmer eventually learns, \n",
    "dates and times are one of the most annoying things to deal with due to all the various exceptions (think time zones, leap years, daylight savings, etc.).\n",
    "\n",
    "Here, we're just going to go over some **very** basic uses of the `datetime` module in Python, but see [this helpful tutorial](https://www.programiz.com/python-programming/datetime)."
   ]
  },
  {
   "cell_type": "code",
   "execution_count": 165,
   "metadata": {},
   "outputs": [
    {
     "name": "stdout",
     "output_type": "stream",
     "text": [
      "2020-09-13 02:05:11.376362\n",
      "2020\n",
      "2020-09-13 06:05:11.376572\n",
      "2020-09-13\n",
      "1994-11-23 11:00:00\n",
      "0.000175\n"
     ]
    }
   ],
   "source": [
    "import datetime\n",
    "\n",
    "# Get the current time in your computer's timezone\n",
    "now = datetime.datetime.now()\n",
    "print(now)\n",
    "\n",
    "# Get parts of the datetime\n",
    "current_year = now.year\n",
    "print(current_year)\n",
    "\n",
    "# Get the current time in the standard UTC timezone\n",
    "utcnow = datetime.datetime.utcnow()\n",
    "print(utcnow)\n",
    "\n",
    "# Just get the current date\n",
    "today = datetime.date.today()\n",
    "print(today)\n",
    "\n",
    "# Create your own datetime object\n",
    "some_date = datetime.datetime(year=1994, month=11, day=23, hour=11)  # Can also specify minute, etc.\n",
    "print(some_date)\n",
    "\n",
    "# Compute the passage of time up to sub-millisecond precision\n",
    "start = datetime.datetime.now()\n",
    "x = 0\n",
    "for i in range(1000):\n",
    "    x += 1\n",
    "end = datetime.datetime.now()\n",
    "elapsed_time = end - start\n",
    "print(elapsed_time.total_seconds())"
   ]
  }
 ],
 "metadata": {
  "kernelspec": {
   "display_name": "Python 3 (ipykernel)",
   "language": "python",
   "name": "python3"
  },
  "language_info": {
   "codemirror_mode": {
    "name": "ipython",
    "version": 3
   },
   "file_extension": ".py",
   "mimetype": "text/x-python",
   "name": "python",
   "nbconvert_exporter": "python",
   "pygments_lexer": "ipython3",
   "version": "3.7.11"
  }
 },
 "nbformat": 4,
 "nbformat_minor": 4
}
