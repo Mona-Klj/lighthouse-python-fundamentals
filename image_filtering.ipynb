{
 "cells": [
  {
   "cell_type": "markdown",
   "metadata": {},
   "source": [
    "# Image filtering tutorial\n",
    "In this notebook, we will see how to use Python to solve a real-life data science problem! We will look through a folder containing image files and filter it so that we are left with only high-resolution images, which could be a step in our data cleaning pipeline.\n",
    "\n",
    "## Context\n",
    "If we want to build a model that takes image data as input (e.g. an image classifier), we first need to obtain a dataset of images to work with. For instance, we might right a data mining script that scrapes the web for images of different categories.\n",
    "\n",
    "Are we done at this point? Absolutely not. We might want to filter the data to retain only certain images. For instance, images blindly scraped from the web come in all shapes and sizes, and we might only want to keep images that are above a certain resolution to impose a lower bound on quality. This is exactly what we are going to do in this tutorial.\n",
    "\n",
    "## Our goal\n",
    "Given a directory (folder) containing image files, create a new directory that only contains the images which have a height and width greater than or equal to some `height_min` and `width_min`. For this tutorial, let's say that `height_min` and `width_min` are both `400`.\n",
    "\n",
    "## What we'll learn about\n",
    "- Control flow (loops and conditionals)\n",
    "- Data structures (strings, lists, tuples, and dictionaries)\n",
    "- Errors\n",
    "- The `os` package for filesystem manipulations\n",
    "- The `PILLOW` package for reading image files\n",
    "- How to think through intended program logic before writing code\n",
    "\n",
    "## Requirements\n",
    "Since we're working with image data, we need a package that will let us read\n",
    "image files and their resolutions (height and width). For this, we will be using\n",
    "the `PILLOW` package. Open your command line, activate your virtual environment,\n",
    "and install PILLOW using the comands below:\n",
    "\n",
    "Activate your virual environment (you don't need to do this if your already see `(base)` at the\n",
    "start of your console line).\n",
    "```\n",
    "source activate base\n",
    "```\n",
    "\n",
    "Install PILLOW\n",
    "```\n",
    "conda install -c anaconda pillow\n",
    "```\n",
    "\n",
    "### **Note**:\n",
    "In this notebook, I repeat a lot of code in each cell. This is not necessary (and undesirable), as variables you define in previous cells\n",
    "continue to exist in subsequent ones. I am only doing it here for education purposes so that we can see all the code at once."
   ]
  },
  {
   "cell_type": "markdown",
   "metadata": {},
   "source": [
    "# Before we begin\n",
    "We want to look at the images in the directory `raw_images` and save the ones above a resolution of `400x400` to the directory `cleaned_images`.\n",
    "\n",
    "Let's first think about how we would do this manually to get an intuition for how we could code it...\n",
    "Try and do the task with just keyboard and mouse on your computer, paying careful attention to the steps you're taking.\n",
    "\n",
    "## Pseudo-code\n",
    "```\n",
    "For each file in the raw_images directory:\n",
    "    Open the image\n",
    "    Look at its resolution\n",
    "    If its height and width are both greater than or equal to 400:\n",
    "        Save the file to the cleaned_images directory\n",
    "```"
   ]
  },
  {
   "cell_type": "markdown",
   "metadata": {},
   "source": [
    "# Time to code!"
   ]
  },
  {
   "cell_type": "markdown",
   "metadata": {},
   "source": [
    "## Step 1: get a list of files in the `raw_images` directory"
   ]
  },
  {
   "cell_type": "code",
   "execution_count": 1,
   "metadata": {},
   "outputs": [
    {
     "name": "stdout",
     "output_type": "stream",
     "text": [
      "['airplane.jpg', 'apple.jpg', 'arctriumph.jpg', 'backpack.jpg', 'bagel.jpg', 'banana.jpg', 'baseball.jpg', 'baseballbat.jpg', 'basketball.jpg', 'bed.jpg']\n"
     ]
    }
   ],
   "source": [
    "import os    # One of many very useful built-in python packages\n",
    "\n",
    "files = os.listdir('raw_images')    # Given a path to a directory, this function returns a list of all the filenames in it\n",
    "print(files[:10])"
   ]
  },
  {
   "cell_type": "markdown",
   "metadata": {},
   "source": [
    "## Step 2: walk through the images one by one and open them"
   ]
  },
  {
   "cell_type": "markdown",
   "metadata": {},
   "source": [
    "But how on earth do we \"open an image\" in code?? When we know what we want to achieve in Python but don't readily know how to do it, a helpful thing to do is Google it!\n",
    "\n",
    "One of the most popular is the `PIL` package, and people online show you how to use it to get an image's size. With this package, we can do things like look at an image's resolution, display it on the screen, change its size, and modify its pixels. For this tutorial, we just need to open the image and look at it's height and width."
   ]
  },
  {
   "cell_type": "code",
   "execution_count": null,
   "metadata": {},
   "outputs": [
    {
     "name": "stdout",
     "output_type": "stream",
     "text": [
      "Image width: 1512\n",
      "Image height: 2016\n"
     ]
    }
   ],
   "source": [
    "from PIL import Image\n",
    "\n",
    "example_image = Image.open('example_image.jpg')\n",
    "\n",
    "# Get the image's resolution\n",
    "width, height = example_image.size\n",
    "print('Image width: ' + str(width))\n",
    "print('Image height: ' + str(height))\n",
    "\n",
    "# Display the image\n",
    "example_image.show()\n",
    "\n",
    "# Save a copy of the image (similar to using \"Save As\" with an open image on your computer)\n",
    "example_image.save('example_image copy.jpg')"
   ]
  },
  {
   "cell_type": "markdown",
   "metadata": {},
   "source": [
    "### Now that we see how to open and image and get it's resolution, let's try to achieve step 2"
   ]
  },
  {
   "cell_type": "code",
   "execution_count": 5,
   "metadata": {},
   "outputs": [],
   "source": [
    "files = os.listdir('raw_images')\n",
    "\n",
    "for file in files:\n",
    "    image = Image.open(file)"
   ]
  },
  {
   "cell_type": "markdown",
   "metadata": {},
   "source": [
    "### Uh-oh, we have an error when we try to open the file. PIL claims that the file we're trying to open doesn't exist. What could be the cause...\n",
    "\n",
    "Answer: It's looking in the current folder we're running Python from, and the actual files are in a subdirectory called `raw_images`. What it wants is the path `raw_images/[file name]`. We need to add that folder name to each of our file names before opening them. Let's try again:"
   ]
  },
  {
   "cell_type": "code",
   "execution_count": 6,
   "metadata": {},
   "outputs": [],
   "source": [
    "files = os.listdir('raw_images')\n",
    "\n",
    "for file in files:\n",
    "    image = Image.open('raw_images/' + file)"
   ]
  },
  {
   "cell_type": "markdown",
   "metadata": {},
   "source": [
    "## Step 3: Get the image's resolution and check if it is above 400x400 pixels\n",
    "Currently, we're just opening the file without doing anything. What we want to do is get its resolution and see if it is above\n",
    "our minimum requirement of 400x400 pixels."
   ]
  },
  {
   "cell_type": "code",
   "execution_count": 7,
   "metadata": {},
   "outputs": [
    {
     "name": "stdout",
     "output_type": "stream",
     "text": [
      "Image airplane.jpg is BELOW the minimum resolution\n",
      "Image apple.jpg is ABOVE the minimum resolution\n",
      "Image arctriumph.jpg is ABOVE the minimum resolution\n",
      "Image backpack.jpg is ABOVE the minimum resolution\n",
      "Image bagel.jpg is ABOVE the minimum resolution\n",
      "Image banana.jpg is ABOVE the minimum resolution\n",
      "Image baseball.jpg is ABOVE the minimum resolution\n",
      "Image baseballbat.jpg is ABOVE the minimum resolution\n",
      "Image basketball.jpg is ABOVE the minimum resolution\n",
      "Image bed.jpg is ABOVE the minimum resolution\n",
      "Image bowtiepasta.jpg is ABOVE the minimum resolution\n",
      "Image breadslice.jpg is ABOVE the minimum resolution\n",
      "Image broom.jpg is BELOW the minimum resolution\n",
      "Image button.jpg is ABOVE the minimum resolution\n",
      "Image car.jpg is BELOW the minimum resolution\n",
      "Image cathedral.jpg is ABOVE the minimum resolution\n",
      "Image chesspiece.jpg is ABOVE the minimum resolution\n",
      "Image clock.jpg is ABOVE the minimum resolution\n",
      "Image clown.jpg is BELOW the minimum resolution\n",
      "Image coffeecup.jpg is ABOVE the minimum resolution\n",
      "Image coffeemaker.jpg is ABOVE the minimum resolution\n",
      "Image colloseum.jpg is BELOW the minimum resolution\n",
      "Image computermouse.jpg is ABOVE the minimum resolution\n",
      "Image convertible.jpg is BELOW the minimum resolution\n",
      "Image cooler.jpg is BELOW the minimum resolution\n",
      "Image couch.jpg is ABOVE the minimum resolution\n",
      "Image cow.jpg is ABOVE the minimum resolution\n",
      "Image crane.jpg is ABOVE the minimum resolution\n",
      "Image cutter.jpg is BELOW the minimum resolution\n",
      "Image desk.jpg is ABOVE the minimum resolution\n",
      "Image deskchair.jpg is ABOVE the minimum resolution\n",
      "Image die.jpg is ABOVE the minimum resolution\n",
      "Image dishwasher.jpg is ABOVE the minimum resolution\n",
      "Image drum.jpg is ABOVE the minimum resolution\n",
      "Image drumset.jpg is ABOVE the minimum resolution\n",
      "Image dumptruck.jpg is ABOVE the minimum resolution\n",
      "Image egg.jpg is ABOVE the minimum resolution\n",
      "Image eiffeltower.jpg is ABOVE the minimum resolution\n",
      "Image eightball.jpg is ABOVE the minimum resolution\n",
      "Image firetruck.jpg is ABOVE the minimum resolution\n",
      "Image fork.jpg is ABOVE the minimum resolution\n",
      "Image fountain.jpg is ABOVE the minimum resolution\n",
      "Image freighttrain.jpg is ABOVE the minimum resolution\n",
      "Image garbagecan.jpg is ABOVE the minimum resolution\n",
      "Image garlic.jpg is ABOVE the minimum resolution\n",
      "Image germanshepard.jpg is ABOVE the minimum resolution\n",
      "Image goldfish.jpg is ABOVE the minimum resolution\n",
      "Image grater.jpg is ABOVE the minimum resolution\n",
      "Image grill.jpg is ABOVE the minimum resolution\n",
      "Image hair clip.jpg is ABOVE the minimum resolution\n",
      "Image hairbrush.jpg is BELOW the minimum resolution\n",
      "Image hairdryer.jpg is BELOW the minimum resolution\n",
      "Image handsaw.jpg is BELOW the minimum resolution\n",
      "Image helmet.jpg is ABOVE the minimum resolution\n",
      "Image jacket.jpg is ABOVE the minimum resolution\n",
      "Image ketchup.jpg is ABOVE the minimum resolution\n",
      "Image key.jpg is BELOW the minimum resolution\n",
      "Image kitten.jpg is ABOVE the minimum resolution\n",
      "Image leaf.jpg is ABOVE the minimum resolution\n",
      "Image lightbulb.jpg is ABOVE the minimum resolution\n",
      "Image lighthouse.jpg is ABOVE the minimum resolution\n",
      "Image mailbox.jpg is BELOW the minimum resolution\n",
      "Image moneyroll.jpg is ABOVE the minimum resolution\n",
      "Image monitor.jpg is ABOVE the minimum resolution\n",
      "Image monument.jpg is ABOVE the minimum resolution\n",
      "Image muffin.jpg is ABOVE the minimum resolution\n",
      "Image paperclip.jpg is ABOVE the minimum resolution\n",
      "Image peanut.jpg is ABOVE the minimum resolution\n",
      "Image pickle.jpg is ABOVE the minimum resolution\n",
      "Image ranchhouse.jpg is ABOVE the minimum resolution\n",
      "Image ravioli.jpg is ABOVE the minimum resolution\n",
      "Image recliner.jpg is ABOVE the minimum resolution\n",
      "Image refrigerator.jpg is ABOVE the minimum resolution\n",
      "Image ring.jpg is ABOVE the minimum resolution\n",
      "Image schoolbus.jpg is ABOVE the minimum resolution\n",
      "Image screw.jpg is BELOW the minimum resolution\n",
      "Image shoe.jpg is BELOW the minimum resolution\n",
      "Image skateboard.jpg is BELOW the minimum resolution\n",
      "Image skyscraper.jpg is ABOVE the minimum resolution\n",
      "Image sodamachine.jpg is ABOVE the minimum resolution\n",
      "Image statue.jpg is ABOVE the minimum resolution\n",
      "Image strawberry.jpg is ABOVE the minimum resolution\n",
      "Image tank.jpg is ABOVE the minimum resolution\n",
      "Image teabag.jpg is ABOVE the minimum resolution\n",
      "Image thread.jpg is ABOVE the minimum resolution\n",
      "Image thumbtack.jpg is BELOW the minimum resolution\n",
      "Image toddler.jpg is BELOW the minimum resolution\n",
      "Image tractor.jpg is ABOVE the minimum resolution\n",
      "Image trafficcone.jpg is ABOVE the minimum resolution\n",
      "Image trafficcop.jpg is ABOVE the minimum resolution\n",
      "Image tree.jpg is ABOVE the minimum resolution\n",
      "Image trunk.jpg is ABOVE the minimum resolution\n",
      "Image umbrella.jpg is ABOVE the minimum resolution\n",
      "Image uprightpiano.jpg is ABOVE the minimum resolution\n",
      "Image van.jpg is ABOVE the minimum resolution\n",
      "Image violin.jpg is BELOW the minimum resolution\n",
      "Image watermelon.jpg is ABOVE the minimum resolution\n",
      "Image winebottle.jpg is BELOW the minimum resolution\n",
      "Image wineglass.jpg is BELOW the minimum resolution\n",
      "Image yarn.jpg is ABOVE the minimum resolution\n"
     ]
    }
   ],
   "source": [
    "files = os.listdir('raw_images')\n",
    "\n",
    "for file in files:\n",
    "    image = Image.open('raw_images/' + file)\n",
    "\n",
    "    width, height = image.size\n",
    "    if height >= 400 and width >= 400:\n",
    "        print('Image ' + file + ' is ABOVE the minimum resolution')\n",
    "    else:\n",
    "        print('Image ' + file + ' is BELOW the minimum resolution')"
   ]
  },
  {
   "cell_type": "markdown",
   "metadata": {},
   "source": [
    "# Step 4: Copy the image over\n",
    "Right now, we're just printing whether images are above/below our threshold. What we really want to do is save images above the threshold into the `cleaned_images` directory and do nothing otherwise."
   ]
  },
  {
   "cell_type": "code",
   "execution_count": 5,
   "metadata": {},
   "outputs": [],
   "source": [
    "files = os.listdir('raw_images')\n",
    "\n",
    "for file in files:\n",
    "    image = Image.open('raw_images/' + file)\n",
    "\n",
    "    width, height = image.size\n",
    "    if height >= 400 and width >= 400:\n",
    "        image.save('cleaned_images/' + file)"
   ]
  },
  {
   "cell_type": "markdown",
   "metadata": {},
   "source": [
    "# And we're done! The `cleaned_images` directory now contains all of the images above our thresholded resolution.\n",
    "\n",
    "## What can we improve?\n",
    "1. **Don't hard-code values**. Instead of writing constants all over the code (e.g. `400`, `raw_images`, assign them to variables with meaningful names. This will make your code more readable, and it will make it easier to modify them in one place rather than having to find them all over your code.\n",
    "2. **Use descriptive and accurate variable names**. Do we really have a list of `files`? More accurately, we have a list of `filenames`. Don't be afraid to use longer, more descriptive variable names.\n",
    "3. **Use intermediate variable names**. Rather than bunch up multiple steps in one line, split them up into multiple lines and give meaningful intermediate variable names. For instance, `raw_images/' + file` is a file path. On a separate line, we can make this explicit. This will make your code more readable (if a bit longer).\n",
    "4. **Use comments to describe abstract logic**. Comments help make clear what you're trying to achieve, and helps other programmers quickly understand what your code does at a high-level. You don't need to comment every line, as your code should be informative on its own (e.g. by using good variable names), but you should try commenting blocks of code."
   ]
  },
  {
   "cell_type": "code",
   "execution_count": 7,
   "metadata": {},
   "outputs": [],
   "source": [
    "# Define program inputs\n",
    "source_dir = 'raw_images'\n",
    "destination_dir = 'cleaned_images'\n",
    "min_width, min_height = 400, 400\n",
    "\n",
    "filenames = os.listdir(source_dir)\n",
    "\n",
    "for filename in filenames:\n",
    "    # Open the image file\n",
    "    file_path = source_dir + '/' + filename\n",
    "    image = Image.open(file_path)\n",
    "\n",
    "    # If the image resolution is above our minimum requirement, save it to our destination directory\n",
    "    width, height = image.size\n",
    "    if height >= min_height and width >= min_width:\n",
    "        image.save(destination_dir + '/' + file)"
   ]
  },
  {
   "cell_type": "markdown",
   "metadata": {},
   "source": [
    "# Bonus: Get some statistics on image resolutions in our dataset\n",
    "\n",
    "## Context\n",
    "As a data scientist, it is essential to be an expert in the dataset you work with. You have a toolset of modeling and data preprocessing techniques\n",
    "at your disposal, but which you use depend on both your goals and your dataset.\n",
    "\n",
    "For instance, many models that can be applied to image data will require that your images all be at the same resolution. How should you go about\n",
    "doing this if your dataset contains images and all sorts of resolutions? What resolution should you pick? What aspect ratio? Should you crop images\n",
    "or stretch them? To answer such questions, a great first step is to know what the distribution of image resolutions actually is in your dataset.\n",
    "This is a part of \"data exploration\", an essential component of data science.\n",
    "\n",
    "## Our goal\n",
    "We're going to modify the above code so that we also get some statistics about how resolutions are distributed in our \"cleaned_images\" dataset.\n",
    "In particular, for each resolution (width-height pair) that exists in the dataset, we want to find out how many images have that resolution.\n",
    "For example, if we had a dataset of images with the following (width, height) pairs:\n",
    "```\n",
    "[(450, 600), (800, 500), (450, 600)]\n",
    "```\n",
    "We would want our program to output statistics that look like the following:\n",
    "```\n",
    "(450, 600) -> 2\n",
    "(800, 500) -> 1\n",
    "```"
   ]
  },
  {
   "cell_type": "markdown",
   "metadata": {},
   "source": [
    "# Before we begin\n",
    "Once again, let's first think about how we would do this manually to get an intuition for how we could code it...\n",
    "Try and do the task with just keyboard and mouse on your computer (and a piece of paper this time), paying careful attention to the steps you're taking.\n",
    "\n",
    "## Pseudo-code\n",
    "```\n",
    "Define a variable \"resolution_counts\" to keep track of them\n",
    "\n",
    "For each file in the raw_images directory:\n",
    "    Open the image\n",
    "    Look at its resolution\n",
    "    If its height and width are both greater than or equal to 400:\n",
    "        Save the file to the cleaned_images directory\n",
    "        \n",
    "        If its (width, height) pair is not already in our \"resolution_counts\":\n",
    "            Add a (width, height) entry in \"resolution_counts\" with a value of 1\n",
    "        Else:\n",
    "            Increase the value of the (width, height) entry in \"resolution_counts\" by 1\n",
    "```"
   ]
  },
  {
   "cell_type": "code",
   "execution_count": 44,
   "metadata": {},
   "outputs": [
    {
     "name": "stdout",
     "output_type": "stream",
     "text": [
      "Skipping non-image file: metadata.txt\n",
      "Resolution: (400, 800), Count: 3\n",
      "Resolution: (700, 400), Count: 10\n",
      "Resolution: (800, 400), Count: 5\n",
      "Resolution: (500, 500), Count: 11\n",
      "Resolution: (500, 700), Count: 3\n",
      "Resolution: (400, 600), Count: 4\n",
      "Resolution: (600, 500), Count: 9\n",
      "Resolution: (400, 500), Count: 2\n",
      "Resolution: (500, 900), Count: 1\n",
      "Resolution: (600, 400), Count: 5\n",
      "Resolution: (800, 600), Count: 1\n",
      "Resolution: (500, 600), Count: 5\n",
      "Resolution: (900, 900), Count: 1\n",
      "Resolution: (600, 600), Count: 2\n",
      "Resolution: (1600, 1500), Count: 1\n",
      "Resolution: (700, 1200), Count: 1\n",
      "Resolution: (1700, 1300), Count: 1\n",
      "Resolution: (400, 700), Count: 7\n",
      "Resolution: (500, 1700), Count: 1\n",
      "Resolution: (2100, 1600), Count: 1\n",
      "Resolution: (1800, 800), Count: 1\n",
      "Resolution: (700, 500), Count: 2\n",
      "Resolution: (700, 600), Count: 1\n",
      "Resolution: (400, 400), Count: 1\n"
     ]
    }
   ],
   "source": [
    "# Define program inputs\n",
    "source_dir = 'raw_images'\n",
    "destination_dir = 'cleaned_images'\n",
    "min_width, min_height = 400, 400\n",
    "\n",
    "filenames = os.listdir(source_dir)\n",
    "\n",
    "# Variable to keep track of the statistics of image resolutions in our dataset\n",
    "resolution_counts = {}\n",
    "\n",
    "for filename in filenames:\n",
    "    # Open the image file\n",
    "    file_path = source_dir + '/' + filename\n",
    "    image = Image.open(file_path)\n",
    "\n",
    "    # If the image resolution is above our minimum requirement, save it to our destination directory\n",
    "    width, height = image.size\n",
    "    if height >= min_height and width >= min_width:\n",
    "        image.save(destination_dir + '/' + file)\n",
    "        \n",
    "        # Also incre\n",
    "        resolution = (width, height)\n",
    "        if resolution not in resolution_counts:\n",
    "            resolution_counts[resolution] = 1\n",
    "        else:\n",
    "            resolution_counts[resolution] += 1    # Shorthand for \"resolution_counts[resolution] = resolution_counts[resolution] + 1\"\n",
    "            \n",
    "# Display the resolution statistics nicely\n",
    "for resolution, count in resolution_counts.items():    # Iterate through the dictionary keys and values at the same time\n",
    "    print('Resolution: {}, Count: {}'.format(resolution, count))"
   ]
  },
  {
   "cell_type": "markdown",
   "metadata": {},
   "source": [
    "# And we're done!\n",
    "Ideally, rather than just print these statistics, we would visualize them graphically in some more informative way,\n",
    "but we'll get there soon. If you're interested, try coming back to this code in Week 3 after we learn about plotting libraries and visualize\n",
    "this data as a **2D histogram**."
   ]
  },
  {
   "cell_type": "code",
   "execution_count": null,
   "metadata": {},
   "outputs": [],
   "source": []
  }
 ],
 "metadata": {
  "kernelspec": {
   "display_name": "Python [conda env:blhl] *",
   "language": "python",
   "name": "conda-env-blhl-py"
  },
  "language_info": {
   "codemirror_mode": {
    "name": "ipython",
    "version": 3
   },
   "file_extension": ".py",
   "mimetype": "text/x-python",
   "name": "python",
   "nbconvert_exporter": "python",
   "pygments_lexer": "ipython3",
   "version": "3.7.11"
  }
 },
 "nbformat": 4,
 "nbformat_minor": 4
}
